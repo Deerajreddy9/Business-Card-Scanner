{
 "cells": [
  {
   "cell_type": "markdown",
   "metadata": {
    "colab_type": "text",
    "id": "7smCRRI4OhiF"
   },
   "source": [
    "\n",
    "\n",
    "# OCR CODE\n",
    "\n",
    "\n"
   ]
  },
  {
   "cell_type": "code",
   "execution_count": null,
   "metadata": {
    "colab": {
     "base_uri": "https://localhost:8080/",
     "height": 1000
    },
    "colab_type": "code",
    "id": "3W3uZIY5OfpO",
    "outputId": "a7cba95f-c34e-46cc-8e29-3613d4a6e519"
   },
   "outputs": [],
   "source": [
    "#for installing tesseract ocr\n",
    "!sudo apt install tesseract-ocr\n",
    "!sudo apt install libtesseract-dev\n",
    "#install pytesseract python package\n",
    "!pip3 install pytesseract"
   ]
  },
  {
   "cell_type": "code",
   "execution_count": null,
   "metadata": {
    "cellView": "both",
    "colab": {
     "base_uri": "https://localhost:8080/",
     "height": 522
    },
    "colab_type": "code",
    "id": "IiS5Vwe1b9kT",
    "outputId": "d18c08b8-6881-4a5b-f44b-a8cbb65e521e"
   },
   "outputs": [],
   "source": [
    "#@title Run this if you want to select card from Google drive\n",
    "#Run this if you want to select visiting card from Google Drive\n",
    "from google.colab import drive\n",
    "drive.mount('/content/drive')"
   ]
  },
  {
   "cell_type": "code",
   "execution_count": null,
   "metadata": {
    "colab": {
     "base_uri": "https://localhost:8080/",
     "height": 50
    },
    "colab_type": "code",
    "id": "PoQUpB2JOx8R",
    "outputId": "b9f34c9e-0769-49d4-f0f5-ebb6e29e34d2"
   },
   "outputs": [],
   "source": [
    "# -*- coding: utf-8 -*\n",
    "import pytesseract\n",
    "try:\n",
    "    from PIL import Image\n",
    "except ImportError:\n",
    "    import Image\n",
    "pytesseract.pytesseract.tesseract_cmd = r'tesseract' # Tesseract Location\n",
    "def ocr_core(filename):\n",
    "    \"\"\"\n",
    "    This function will handle the core OCR processing of images.\n",
    "    \"\"\"\n",
    "    text = pytesseract.image_to_string(Image.open(filename)) #lang='eng' \n",
    "        #We'll use Pillow's Image class to open the image and pytesseract to detect the string in the image\n",
    "    return text\n",
    "cardPath = input(\"Enter file name along with path\\n\") #like content/john smith.jpeg\n",
    "text = ocr_core('/'+cardPath)\n",
    "text = [line for line in text.split(\"\\n\") if line.strip()]"
   ]
  },
  {
   "cell_type": "code",
   "execution_count": null,
   "metadata": {
    "colab": {
     "base_uri": "https://localhost:8080/",
     "height": 34
    },
    "colab_type": "code",
    "id": "daEtah3zQYKx",
    "outputId": "5fe945d2-7970-48d1-c683-5c002c386633"
   },
   "outputs": [],
   "source": [
    "text #print ocr text data"
   ]
  },
  {
   "cell_type": "markdown",
   "metadata": {
    "colab_type": "text",
    "id": "3pSKbX8EQcdz"
   },
   "source": [
    "# Extracting Attributes"
   ]
  },
  {
   "cell_type": "code",
   "execution_count": null,
   "metadata": {
    "colab": {},
    "colab_type": "code",
    "id": "FO97LNCGQfEL"
   },
   "outputs": [],
   "source": [
    "import re\n",
    "#initializing all values with null values\n",
    "name = \"\";firstName=\"\";lastName=\"\";companyName = \"\";position = \"\";mobileNo = \"\";website = \"\";emailId = \"\";linkedinId = \"\"\n",
    "#extracting name attribute\n",
    "if len(text)>=3:\n",
    "    name = text[0]#name\n",
    "    companyName = text[1]#company name\n",
    "    position = text[2]#position in the company\n",
    "else:\n",
    "    name = text[0]#name\n",
    "    companyName = text[1]#company name\n",
    "flag2 = 0\n",
    "for i in range(0,len(text)):\n",
    "    #mobile no\n",
    "    flag1=1\n",
    "    if flag2==0:\n",
    "        for element in text[i]:\n",
    "            if element!=\" \" and element!=\".\" and element!=\"-\" and element not in (str(i) for i in (0,1,2,3,4,5,6,7,8,9)):\n",
    "                flag1 = 0\n",
    "        if text[i][0]==\"+\" or \"phone\" in text[i].lower() or \"mobile\" in text[i].lower() or \"tel\" in text[i].lower() or \"cell\" in text[i].lower() or (flag1==1 and flag2==0):\n",
    "            mobileNo = re.sub('[^0-9]','',text[i])\n",
    "            flag2 = 1\n",
    "    #website\n",
    "    elif (\"www\" in text[i] or \"http\" in text[i] or \"https\" in text[i]) and \"linkedin.com/in/\" not in text[i] and \"@\" not in text[i]:\n",
    "        website = text[i]\n",
    "    #email id\n",
    "    elif \"@\" in text[i]:\n",
    "        flag=0\n",
    "        for m in range(len(text[i])):\n",
    "            if text[i][m] == \" \":\n",
    "                emailId = text[i][m+1:]\n",
    "                flag=1\n",
    "                break\n",
    "            elif (\"email\" in text[i].lower() or \"emailid\" in text[i].lower()) and text[i][m] == \":\":\n",
    "                emailId = text[i][m+1:]\n",
    "                flag=1\n",
    "                break\n",
    "        if flag==0:\n",
    "            emailId = text[i]\n",
    "    #linkedin ID\n",
    "    elif \"linkedin.com/in/\" in text[i]:\n",
    "        linkedinId = text[i]"
   ]
  },
  {
   "cell_type": "code",
   "execution_count": null,
   "metadata": {
    "colab": {
     "base_uri": "https://localhost:8080/",
     "height": 134
    },
    "colab_type": "code",
    "id": "NOLNxN_GQlBn",
    "outputId": "6e1d372c-8f74-4ff1-b962-a04143f2bfc9"
   },
   "outputs": [],
   "source": [
    "# printing the attributes\n",
    "print (name)\n",
    "print (position)\n",
    "print (emailId)\n",
    "print (mobileNo)\n",
    "print (website)\n",
    "print (companyName)\n",
    "print (linkedinId)"
   ]
  },
  {
   "cell_type": "markdown",
   "metadata": {
    "colab_type": "text",
    "id": "i6cs35ljQ6Ov"
   },
   "source": [
    "# Fetch LinkedIn data using web scraping"
   ]
  },
  {
   "cell_type": "code",
   "execution_count": null,
   "metadata": {
    "colab": {
     "base_uri": "https://localhost:8080/",
     "height": 877
    },
    "colab_type": "code",
    "id": "VhiXO5E_Q7SL",
    "outputId": "cff544e6-8a1b-4600-f0d8-c4ea2abe5646"
   },
   "outputs": [],
   "source": [
    "#installing chromedriver for google chrome and selenium\n",
    "!apt install chromium-chromedriver\n",
    "!cp /usr/lib/chromium-browser/chromedriver /usr/bin\n",
    "!pip install selenium\n",
    "#chromedriver options for running chrome\n",
    "from selenium import webdriver\n",
    "options = webdriver.ChromeOptions()\n",
    "options.add_argument('--headless')\n",
    "options.add_argument('--no-sandbox')\n",
    "options.add_argument('--disable-dev-shm-usage')"
   ]
  },
  {
   "cell_type": "code",
   "execution_count": null,
   "metadata": {
    "colab": {},
    "colab_type": "code",
    "id": "QOlarcaRRlsw"
   },
   "outputs": [],
   "source": [
    "query = name + \" \" + companyName\n",
    "from selenium import webdriver\n",
    "from selenium.webdriver.common.keys import Keys\n",
    "#path to chromedriver.exe\n",
    "driver = webdriver.Chrome(r\"chromedriver\",options=options) #chrome web driver path\n",
    "driver.get('https://www.linkedin.com')\n",
    "#finding sign in button\n",
    "driver.find_element_by_class_name('nav__button-secondary').click()\n",
    "u_email = input(\"Enter your LinkedIn Email\")\n",
    "u_pass = input(\"Enter Your LinkedIn Password\")\n",
    "driver.find_element_by_id('username').send_keys(U_email) #Enter Your Email\n",
    "driver.find_element_by_id('password').send_keys(u_pass) #linkedIn password\n",
    "#to press on login button\n",
    "driver.find_element_by_class_name('login__form_action_container').click()\n",
    "#check if verification pin is generated from linkedIn to your Email\n",
    "try: #For check if security pin is generated to your mail\n",
    "  findpin = driver.find_element_by_id('input__email_verification_pin')\n",
    "  pin = input(\"Enter your pin\\n\") \n",
    "  findpin.send_keys(pin)\n",
    "  driver.find_element_by_id('email-pin-submit-button').click()\n",
    "except:\n",
    "  pass\n",
    "try: # For Checking if \"Skip\" to enter Mobile Number \n",
    "  driver.find_element_by_class_name(\"secondary-action\").click()\n",
    "except:\n",
    "  pass"
   ]
  },
  {
   "cell_type": "code",
   "execution_count": null,
   "metadata": {
    "colab": {
     "base_uri": "https://localhost:8080/",
     "height": 670
    },
    "colab_type": "code",
    "id": "OFJeqF-1Kmmy",
    "outputId": "f3af57e7-ca3a-4494-c1b4-615f49e9894d",
    "scrolled": false
   },
   "outputs": [],
   "source": [
    "#print the current page screen, see if what error occurs\n",
    "from PIL import Image\n",
    "driver.save_screenshot('/content/sr2.jpg')\n",
    "img  = Image.open('/content/sr2.jpg')\n",
    "img"
   ]
  },
  {
   "cell_type": "code",
   "execution_count": null,
   "metadata": {
    "colab": {},
    "colab_type": "code",
    "id": "LwDgHw8O35eh"
   },
   "outputs": [],
   "source": [
    "#will find the search bar & input the query\n",
    "search_query = driver.find_element_by_tag_name('input')\n",
    "search_query.send_keys(query)\n",
    "search_query.send_keys(Keys.RETURN)"
   ]
  },
  {
   "cell_type": "code",
   "execution_count": null,
   "metadata": {
    "colab": {},
    "colab_type": "code",
    "id": "oeZRDG3cbDH-"
   },
   "outputs": [],
   "source": [
    "driver.implicitly_wait(10)\n",
    "linklist = driver.find_elements_by_xpath(\"//a[@class = 'search-result__result-link ember-view']\") #selecting the person\n",
    "linklist[0].click()\n",
    "name = driver.find_element_by_xpath(\"//li[@class = 'inline t-24 t-black t-normal break-words']\").text\n",
    "#this will return the text containing current position and companyname of the person\n",
    "text1 = driver.find_element_by_xpath(\"//h2[@class = 'mt1 t-18 t-black t-normal']\").text\n",
    "#for getting LinkedIn ID\n",
    "contact = driver.find_element_by_link_text('Contact info')\n",
    "contact.click()\n",
    "linkedinId = contact.get_attribute('href')\n",
    "linkedinId = linkedinId.strip(\"detail/contact-info/\")\n",
    "driver.close()\n",
    "#extracting position and companyName from text1\n",
    "for i in range(0,len(text1)):\n",
    "    if text1[i]=='a' and text1[i+1]=='t':\n",
    "        break\n",
    "position = text1[0:i-1]\n",
    "companyName = text1[i+3:]\n",
    "#first name and last name\n",
    "for i in range(0,len(name)):\n",
    "    if(name[i]==\" \"):\n",
    "        break\n",
    "firstName = name[:i]\n",
    "lastName = name[i+1:]"
   ]
  },
  {
   "cell_type": "code",
   "execution_count": null,
   "metadata": {
    "colab": {},
    "colab_type": "code",
    "id": "lzmKDnd0Y1ST"
   },
   "outputs": [],
   "source": [
    "#printing Updated values\n",
    "print(name)\n",
    "print(firstName)\n",
    "print(lastName)\n",
    "print(position)\n",
    "print(companyName)\n",
    "print(linkedinId)"
   ]
  },
  {
   "cell_type": "markdown",
   "metadata": {
    "colab_type": "text",
    "id": "nV4PUklIy2qM"
   },
   "source": [
    "# Saving into excel using drive"
   ]
  },
  {
   "cell_type": "code",
   "execution_count": null,
   "metadata": {
    "colab": {},
    "colab_type": "code",
    "id": "rXvtRBpVzJ0D"
   },
   "outputs": [],
   "source": [
    "#accessing your gmail drive\n",
    "from google.colab import drive\n",
    "drive.mount('/content/drive')"
   ]
  },
  {
   "cell_type": "code",
   "execution_count": null,
   "metadata": {
    "colab": {},
    "colab_type": "code",
    "id": "uFmIKn99zY0a"
   },
   "outputs": [],
   "source": [
    "#importing pandas\n",
    "import pandas as pd"
   ]
  },
  {
   "cell_type": "markdown",
   "metadata": {
    "colab_type": "text",
    "id": "f48NiJhr28Mj"
   },
   "source": [
    "## Run the below part only once for creating columns and saving in drive"
   ]
  },
  {
   "cell_type": "code",
   "execution_count": null,
   "metadata": {
    "colab": {},
    "colab_type": "code",
    "id": "E9Wl7LkMzjTJ"
   },
   "outputs": [],
   "source": [
    "#creating column names of table\n",
    "database=pd.DataFrame(columns=['Name','FName','LName','Company','Position','Mobile','Website','Email','Linkedinid'])\n",
    "database=database.astype(str)"
   ]
  },
  {
   "cell_type": "code",
   "execution_count": null,
   "metadata": {
    "cellView": "code",
    "colab": {},
    "colab_type": "code",
    "id": "r9w6Yyf50mEC"
   },
   "outputs": [],
   "source": [
    "#saving the table\n",
    "database.to_csv('/content/drive/My Drive/database.csv', index = False) #drive path like /content/drive/My Drive/database.csv"
   ]
  },
  {
   "cell_type": "markdown",
   "metadata": {
    "colab_type": "text",
    "id": "tTgpNxZc28jz"
   },
   "source": [
    "## Inserting Cells,No restrictions run any times"
   ]
  },
  {
   "cell_type": "code",
   "execution_count": null,
   "metadata": {
    "colab": {},
    "colab_type": "code",
    "id": "46C-Vkr70Z27"
   },
   "outputs": [],
   "source": [
    "#Reading the table from drive\n",
    "database = pd.read_csv('/content/drive/My Drive/database.csv') #drive path like /content/drive/My Drive/database.csv"
   ]
  },
  {
   "cell_type": "code",
   "execution_count": null,
   "metadata": {
    "colab": {},
    "colab_type": "code",
    "id": "7NAwQ__nz7Rj"
   },
   "outputs": [],
   "source": [
    "#Appending the new rows to the table\n",
    "database=database.append(pd.Series([name,firstName,lastName,companyName,position,mobileNo,website,emailId,linkedinId], index=database.columns ), ignore_index=True)"
   ]
  },
  {
   "cell_type": "code",
   "execution_count": null,
   "metadata": {
    "colab": {},
    "colab_type": "code",
    "id": "wUUdMuuj0h9y"
   },
   "outputs": [],
   "source": [
    "#printing the table\n",
    "database"
   ]
  },
  {
   "cell_type": "code",
   "execution_count": null,
   "metadata": {
    "colab": {},
    "colab_type": "code",
    "id": "GkKd8lk2zPa6"
   },
   "outputs": [],
   "source": [
    "#saving the table to drive\n",
    "database.to_csv('/content/drive/My Drive/database.csv', index = False) #drive path like /content/drive/My Drive/database.csv"
   ]
  }
 ],
 "metadata": {
  "accelerator": "GPU",
  "colab": {
   "collapsed_sections": [
    "7smCRRI4OhiF",
    "3pSKbX8EQcdz",
    "9R2VxYtL37Xq",
    "i6cs35ljQ6Ov",
    "nV4PUklIy2qM"
   ],
   "name": "BusiScan.ipynb",
   "provenance": [],
   "toc_visible": true,
   "version": "0.3.2"
  },
  "kernelspec": {
   "display_name": "Python 3",
   "language": "python",
   "name": "python3"
  },
  "language_info": {
   "codemirror_mode": {
    "name": "ipython",
    "version": 3
   },
   "file_extension": ".py",
   "mimetype": "text/x-python",
   "name": "python",
   "nbconvert_exporter": "python",
   "pygments_lexer": "ipython3",
   "version": "3.6.5"
  }
 },
 "nbformat": 4,
 "nbformat_minor": 1
}
